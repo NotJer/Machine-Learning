{
  "nbformat": 4,
  "nbformat_minor": 0,
  "metadata": {
    "colab": {
      "provenance": []
    },
    "kernelspec": {
      "name": "python3",
      "display_name": "Python 3"
    },
    "language_info": {
      "name": "python"
    }
  },
  "cells": [
    {
      "cell_type": "code",
      "execution_count": 2,
      "metadata": {
        "id": "cU3FFfJNGqTn"
      },
      "outputs": [],
      "source": [
        "# copyright 2022 Christian Forssén\n",
        "# by Christian Forssén\n",
        "# For detailed reasoning, see Data Analysis: A Bayesian Tutorial (2E) by D. S. Sivia with J. Skilling (ISBN 978-0-19-856832-2).\n",
        "\n",
        "import numpy as np\n",
        "import matplotlib.pyplot as plt\n",
        "import scipy.stats as stats\n",
        "rng = np.random.default_rng(seed=999)         # for reproducibility\n",
        "pHtrue=0.6                       # biased coin\n",
        "flips=rng.random(2**12) # simulates 4096 coin flips\n",
        "heads=flips<pHtrue              # boolean array, heads[i]=True if flip i is heads\n",
        "num_coin_tosses=10"
      ]
    },
    {
      "cell_type": "code",
      "source": [
        "# copyright 2022 Christian Forssén\n",
        "# by Christian Forssén\n",
        "# For detailed reasoning, see Data Analysis: A Bayesian Tutorial (2E) by D. S. Sivia with J. Skilling (ISBN 978-0-19-856832-2).\n",
        "\n",
        "def print_likely_fair_prior_measures(N,heads):\n",
        "    \"\"\"\n",
        "    Prints out the mean, and 68 and 95 CIs for the \"coin is likely fair\" prior. This means alpha=beta=30.\n",
        "    \"\"\"\n",
        "    x = np.linspace(0, 1, 301)   # mesh for posterior plots (enough so smooth)\n",
        "    median, mean, cred68, cred95 = dist_stuff(stats.beta(30+heads,30+N-heads))\n",
        "    mode=dist_mode(stats.beta(1+heads,1+N-heads),x)\n",
        "    print('For the trusting-person`s prior, and',heads,'heads out of',N,'tosses:')\n",
        "    print (f'Mean={mean[0]:.3f}; Mode={mode[0]:.3f}')\n",
        "    print (f'68% DoB interval=[{cred68[0]:.3f},{cred68[1]:.3f}]')\n",
        "    print (f'95% DoB interval=[{cred95[0]:.3f},{cred95[1]:.3f}]')\n",
        "    return"
      ],
      "metadata": {
        "id": "fsw1ydluGw6y"
      },
      "execution_count": 4,
      "outputs": []
    },
    {
      "cell_type": "code",
      "source": [
        "# copyright 2022 Christian Forssén\n",
        "# by Christian Forssén\n",
        "# For detailed reasoning, see Data Analysis: A Bayesian Tutorial (2E) by D. S. Sivia with J. Skilling (ISBN 978-0-19-856832-2).\n",
        "\n",
        "def dist_stuff(dist):\n",
        "    \"\"\"\n",
        "    Finds the median, mean, and 68%/95% credible intervals for the given\n",
        "    1-d distribution (which is an object from scipy.stats).\n",
        "    \"\"\"\n",
        "    # For x = median, mean: return x and the value of the pdf at x as a list\n",
        "    median = [dist.median(), dist.pdf(dist.median())]\n",
        "    mean = [dist.mean(), dist.pdf(dist.mean())]\n",
        "    # The left and right limits of the credibility interval are returned\n",
        "    cred68 = dist.interval(0.68)\n",
        "    cred95 = dist.interval(0.95)\n",
        "    return median, mean, cred68, cred95\n",
        "\n"
      ],
      "metadata": {
        "colab": {
          "base_uri": "https://localhost:8080/"
        },
        "id": "W2hTzIEzG5CY",
        "outputId": "da331f5c-24b5-45a9-dd13-89bf8ba7dc2a"
      },
      "execution_count": 9,
      "outputs": [
        {
          "output_type": "stream",
          "name": "stdout",
          "text": [
            "For a uniform prior, and 4 heads out of 10 tosses:\n",
            "  mean=0.417; Mode=0.400\n",
            "  68% DoB interval=[0.276,0.558]\n",
            "  95% DoB interval=[0.167,0.692]\n",
            "For the trusting-person`s prior, and 4 heads out of 10 tosses:\n",
            "Mean=0.486; Mode=0.400\n",
            "68% DoB interval=[0.426,0.545]\n",
            "95% DoB interval=[0.370,0.602]\n"
          ]
        }
      ]
    },
    {
      "cell_type": "code",
      "source": [
        "# copyright 2022 Christian Forssén\n",
        "# by Christian Forssén\n",
        "# For detailed reasoning, see Data Analysis: A Bayesian Tutorial (2E) by D. S. Sivia with J. Skilling (ISBN 978-0-19-856832-2).\n",
        "\n",
        "def dist_mode(dist, x):\n",
        "    \"\"\"\n",
        "    Return the mode (maximum) of the 1-d distribution for array x.\n",
        "    \"\"\"\n",
        "    x_max_index = dist.pdf(x).argmax()\n",
        "    # Return x of the maximum and the value of the pdf at that x\n",
        "    mode = [x[x_max_index], dist.pdf(x[x_max_index])]\n",
        "    return mode"
      ],
      "metadata": {
        "id": "GzJihM-JKKMG"
      },
      "execution_count": null,
      "outputs": []
    },
    {
      "cell_type": "code",
      "source": [
        "# copyright 2022 Christian Forssén\n",
        "# by Christian Forssén\n",
        "# For detailed reasoning, see Data Analysis: A Bayesian Tutorial (2E) by D. S. Sivia with J. Skilling (ISBN 978-0-19-856832-2).\n",
        "\n",
        "def print_uniform_prior_measures(N,heads):\n",
        "    \"\"\"\n",
        "    Prints out the mean, and 68 and 95 CIs for a uniform prior. Note that this means alpha=beta=1.\n",
        "    \"\"\"\n",
        "    x = np.linspace(0, 1, 301)   # mesh for posterior plots (enough so smooth)\n",
        "    median, mean, cred68, cred95 = dist_stuff(stats.beta(1+heads,1+N-heads))\n",
        "    mode=dist_mode(stats.beta(1+heads,1+N-heads),x)\n",
        "    print(f'For a uniform prior, and {heads} heads out of {N} tosses:')\n",
        "    print(f'  mean={mean[0]:.3f}; Mode={mode[0]:.3f}')\n",
        "    print(f'  68% DoB interval=[{cred68[0]:.3f},{cred68[1]:.3f}]')\n",
        "    print(f'  95% DoB interval=[{cred95[0]:.3f},{cred95[1]:.3f}]')\n",
        "    return\n",
        "print_uniform_prior_measures(num_coin_tosses,np.sum(heads[:num_coin_tosses]))\n",
        "print_likely_fair_prior_measures(num_coin_tosses,np.sum(heads[:num_coin_tosses]))"
      ],
      "metadata": {
        "id": "7fvs7zjwKOC4"
      },
      "execution_count": null,
      "outputs": []
    },
    {
      "cell_type": "code",
      "source": [
        "# copyright 2022 Christian Forssén\n",
        "# by Christian Forssén\n",
        "# For detailed reasoning, see Data Analysis: A Bayesian Tutorial (2E) by D. S. Sivia with J. Skilling (ISBN 978-0-19-856832-2).\n",
        "\n",
        "def print_likely_unfair_prior_measures(N,heads):\n",
        "    \"\"\"\n",
        "    Prints out the mean, and 68 and 95 CIs for the \"coin is likely unfair\" prior. This means alpha=beta=0.2.\n",
        "    \"\"\"\n",
        "    x = np.linspace(0, 1, 301)   # mesh for posterior plots (enough so smooth)\n",
        "    median, mean, cred68, cred95 = dist_stuff(stats.beta(0.2+heads,0.2+N-heads))\n",
        "    mode=dist_mode(stats.beta(1+heads,1+N-heads),x)\n",
        "    print('For the highly suspicious person\\'s prior, and',heads,'heads out of',N,'tosses:')\n",
        "    print (f'Mean={mean[0]:.3f}; Mode={mode[0]:.3f}')\n",
        "    print (f'68% DoB interval=[{cred68[0]:.3f},{cred68[1]:.3f}]')\n",
        "    print (f'95% DoB interval=[{cred95[0]:.3f},{cred95[1]:.3f}]')\n",
        "    return\n",
        "print_likely_unfair_prior_measures(num_coin_tosses,np.sum(heads[:num_coin_tosses]))"
      ],
      "metadata": {
        "colab": {
          "base_uri": "https://localhost:8080/"
        },
        "id": "L9S4mIMvG8qT",
        "outputId": "0c75f85c-db55-4c44-a151-24f2e3cd7d34"
      },
      "execution_count": 11,
      "outputs": [
        {
          "output_type": "stream",
          "name": "stdout",
          "text": [
            "For the highly suspicious person's prior, and 4 heads out of 10 tosses:\n",
            "Mean=0.404; Mode=0.400\n",
            "68% DoB interval=[0.253,0.555]\n",
            "95% DoB interval=[0.144,0.699]\n"
          ]
        }
      ]
    },
    {
      "cell_type": "code",
      "source": [],
      "metadata": {
        "id": "QvpJxFPEHqJJ"
      },
      "execution_count": null,
      "outputs": []
    }
  ]
}