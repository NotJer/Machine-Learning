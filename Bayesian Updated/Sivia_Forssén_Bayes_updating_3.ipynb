{
  "nbformat": 4,
  "nbformat_minor": 0,
  "metadata": {
    "colab": {
      "provenance": []
    },
    "kernelspec": {
      "name": "python3",
      "display_name": "Python 3"
    },
    "language_info": {
      "name": "python"
    }
  },
  "cells": [
    {
      "cell_type": "code",
      "execution_count": 1,
      "metadata": {
        "id": "cU3FFfJNGqTn"
      },
      "outputs": [],
      "source": [
        "# copyright 2022 Christian Forssén\n",
        "# by Christian Forssén\n",
        "# For detailed reasoning, see Data Analysis: A Bayesian Tutorial (2E) by D. S. Sivia with J. Skilling (ISBN 978-0-19-856832-2).\n",
        "\n",
        "import numpy as np\n",
        "import matplotlib.pyplot as plt\n",
        "import scipy.stats as stats\n",
        "rng = np.random.default_rng(seed=999)         # for reproducibility\n",
        "pHtrue=0.6                       # biased coin\n",
        "flips=rng.random(2**12) # simulates 4096 coin flips\n",
        "heads=flips<pHtrue              # boolean array, heads[i]=True if flip i is heads\n",
        "num_coin_tosses=10"
      ]
    },
    {
      "cell_type": "code",
      "source": [
        "# copyright 2022 Christian Forssén\n",
        "# by Christian Forssén\n",
        "# For detailed reasoning, see Data Analysis: A Bayesian Tutorial (2E) by D. S. Sivia with J. Skilling (ISBN 978-0-19-856832-2).\n",
        "\n",
        "def print_likely_fair_prior_measures(N,heads):\n",
        "    \"\"\"\n",
        "    Prints out the mean, and 68 and 95 CIs for the \"coin is likely fair\" prior. This means alpha=beta=30.\n",
        "    \"\"\"\n",
        "    x = np.linspace(0, 1, 301)   # mesh for posterior plots (enough so smooth)\n",
        "    median, mean, cred68, cred95 = dist_stuff(stats.beta(30+heads,30+N-heads))\n",
        "    mode=dist_mode(stats.beta(1+heads,1+N-heads),x)\n",
        "    print('For the trusting-person`s prior, and',heads,'heads out of',N,'tosses:')\n",
        "    print (f'Mean={mean[0]:.3f}; Mode={mode[0]:.3f}')\n",
        "    print (f'68% DoB interval=[{cred68[0]:.3f},{cred68[1]:.3f}]')\n",
        "    print (f'95% DoB interval=[{cred95[0]:.3f},{cred95[1]:.3f}]')\n",
        "    return"
      ],
      "metadata": {
        "id": "fsw1ydluGw6y"
      },
      "execution_count": 2,
      "outputs": []
    },
    {
      "cell_type": "code",
      "source": [
        "# copyright 2022 Christian Forssén\n",
        "# by Christian Forssén\n",
        "# For detailed reasoning, see Data Analysis: A Bayesian Tutorial (2E) by D. S. Sivia with J. Skilling (ISBN 978-0-19-856832-2).\n",
        "\n",
        "def dist_stuff(dist):\n",
        "    \"\"\"\n",
        "    Finds the median, mean, and 68%/95% credible intervals for the given\n",
        "    1-d distribution (which is an object from scipy.stats).\n",
        "    \"\"\"\n",
        "    # For x = median, mean: return x and the value of the pdf at x as a list\n",
        "    median = [dist.median(), dist.pdf(dist.median())]\n",
        "    mean = [dist.mean(), dist.pdf(dist.mean())]\n",
        "    # The left and right limits of the credibility interval are returned\n",
        "    cred68 = dist.interval(0.68)\n",
        "    cred95 = dist.interval(0.95)\n",
        "    return median, mean, cred68, cred95\n",
        "\n"
      ],
      "metadata": {
        "id": "W2hTzIEzG5CY"
      },
      "execution_count": 3,
      "outputs": []
    },
    {
      "cell_type": "code",
      "source": [
        "# copyright 2022 Christian Forssén\n",
        "# by Christian Forssén\n",
        "# For detailed reasoning, see Data Analysis: A Bayesian Tutorial (2E) by D. S. Sivia with J. Skilling (ISBN 978-0-19-856832-2).\n",
        "\n",
        "def dist_mode(dist, x):\n",
        "    \"\"\"\n",
        "    Return the mode (maximum) of the 1-d distribution for array x.\n",
        "    \"\"\"\n",
        "    x_max_index = dist.pdf(x).argmax()\n",
        "    # Return x of the maximum and the value of the pdf at that x\n",
        "    mode = [x[x_max_index], dist.pdf(x[x_max_index])]\n",
        "    return mode"
      ],
      "metadata": {
        "id": "GzJihM-JKKMG"
      },
      "execution_count": 4,
      "outputs": []
    },
    {
      "cell_type": "code",
      "source": [
        "# copyright 2022 Christian Forssén\n",
        "# by Christian Forssén\n",
        "# For detailed reasoning, see Data Analysis: A Bayesian Tutorial (2E) by D. S. Sivia with J. Skilling (ISBN 978-0-19-856832-2).\n",
        "\n",
        "def print_uniform_prior_measures(N,heads):\n",
        "    \"\"\"\n",
        "    Prints out the mean, and 68 and 95 CIs for a uniform prior. Note that this means alpha=beta=1.\n",
        "    \"\"\"\n",
        "    x = np.linspace(0, 1, 301)   # mesh for posterior plots (enough so smooth)\n",
        "    median, mean, cred68, cred95 = dist_stuff(stats.beta(1+heads,1+N-heads))\n",
        "    mode=dist_mode(stats.beta(1+heads,1+N-heads),x)\n",
        "    print(f'For a uniform prior, and {heads} heads out of {N} tosses:')\n",
        "    print(f'  mean={mean[0]:.3f}; Mode={mode[0]:.3f}')\n",
        "    print(f'  68% DoB interval=[{cred68[0]:.3f},{cred68[1]:.3f}]')\n",
        "    print(f'  95% DoB interval=[{cred95[0]:.3f},{cred95[1]:.3f}]')\n",
        "    return\n",
        "print_uniform_prior_measures(num_coin_tosses,np.sum(heads[:num_coin_tosses]))\n",
        "print_likely_fair_prior_measures(num_coin_tosses,np.sum(heads[:num_coin_tosses]))"
      ],
      "metadata": {
        "id": "7fvs7zjwKOC4",
        "colab": {
          "base_uri": "https://localhost:8080/"
        },
        "outputId": "a05a0ae6-1df4-47b1-abd0-c350320e4272"
      },
      "execution_count": 5,
      "outputs": [
        {
          "output_type": "stream",
          "name": "stdout",
          "text": [
            "For a uniform prior, and 4 heads out of 10 tosses:\n",
            "  mean=0.417; Mode=0.400\n",
            "  68% DoB interval=[0.276,0.558]\n",
            "  95% DoB interval=[0.167,0.692]\n",
            "For the trusting-person`s prior, and 4 heads out of 10 tosses:\n",
            "Mean=0.486; Mode=0.400\n",
            "68% DoB interval=[0.426,0.545]\n",
            "95% DoB interval=[0.370,0.602]\n"
          ]
        }
      ]
    },
    {
      "cell_type": "code",
      "source": [
        "# copyright 2022 Christian Forssén\n",
        "# by Christian Forssén\n",
        "# For detailed reasoning, see Data Analysis: A Bayesian Tutorial (2E) by D. S. Sivia with J. Skilling (ISBN 978-0-19-856832-2).\n",
        "\n",
        "def print_likely_unfair_prior_measures(N,heads):\n",
        "    \"\"\"\n",
        "    Prints out the mean, and 68 and 95 CIs for the \"coin is likely unfair\" prior. This means alpha=beta=0.2.\n",
        "    \"\"\"\n",
        "    x = np.linspace(0, 1, 301)   # mesh for posterior plots (enough so smooth)\n",
        "    median, mean, cred68, cred95 = dist_stuff(stats.beta(0.2+heads,0.2+N-heads))\n",
        "    mode=dist_mode(stats.beta(1+heads,1+N-heads),x)\n",
        "    print('For the highly suspicious person\\'s prior, and',heads,'heads out of',N,'tosses:')\n",
        "    print (f'Mean={mean[0]:.3f}; Mode={mode[0]:.3f}')\n",
        "    print (f'68% DoB interval=[{cred68[0]:.3f},{cred68[1]:.3f}]')\n",
        "    print (f'95% DoB interval=[{cred95[0]:.3f},{cred95[1]:.3f}]')\n",
        "    return\n",
        "print_likely_unfair_prior_measures(num_coin_tosses,np.sum(heads[:num_coin_tosses]))"
      ],
      "metadata": {
        "colab": {
          "base_uri": "https://localhost:8080/"
        },
        "id": "L9S4mIMvG8qT",
        "outputId": "8655136b-d2a4-4a78-8d71-2e1bd2723840"
      },
      "execution_count": 6,
      "outputs": [
        {
          "output_type": "stream",
          "name": "stdout",
          "text": [
            "For the highly suspicious person's prior, and 4 heads out of 10 tosses:\n",
            "Mean=0.404; Mode=0.400\n",
            "68% DoB interval=[0.253,0.555]\n",
            "95% DoB interval=[0.144,0.699]\n"
          ]
        }
      ]
    },
    {
      "cell_type": "markdown",
      "source": [
        "Objectivity:\n",
        "\n",
        "Meaning: Making decisions based on unbiased data and evidence, without being influenced by personal feelings, prejudices, or external pressures.\n",
        "\n",
        "Trust:\n",
        "\n",
        "Meaning: Having confidence in the data, methods, or sources without requiring excessive verification. This implies a level of reliance on the accuracy and reliability of the information.\n",
        "\n",
        "Suspicion:\n",
        "\n",
        "Meaning: Being cautious or skeptical about the data, methods, or sources, often leading to additional scrutiny and verification.\n",
        "\n",
        "1) personally I believe that in bayesian updating maintaing objectivity ensures the results are based on the data and evidence provided, unbias which is the most important. Trust and suspicion are also important and they must balance eachother out. You can't be too trusting of the data and ignore errors but also not be suspicion of every result and data point.\n",
        "\n",
        "\n",
        "2) adjusting the phtrue, adjust the bias of the coin. In other words there is a stronger belif that the coin will land on heads. The amount by which you shift varies the amount of which side the coin will land on.\n",
        "\n",
        "Adjusting the number of trials. If you increase the number of trials the posterior mean is more obvious and closer to the true value of the coin bias (phtrue)\n",
        "\n",
        "Adjusting the number down increases the amount of variability and essientally the opposite of increasing."
      ],
      "metadata": {
        "id": "hHl3JfxFPbPs"
      }
    }
  ]
}