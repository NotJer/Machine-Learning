{
  "nbformat": 4,
  "nbformat_minor": 0,
  "metadata": {
    "colab": {
      "provenance": []
    },
    "kernelspec": {
      "name": "python3",
      "display_name": "Python 3"
    },
    "language_info": {
      "name": "python"
    }
  },
  "cells": [
    {
      "cell_type": "code",
      "execution_count": 1,
      "metadata": {
        "id": "BbuOMBxQEOmg"
      },
      "outputs": [],
      "source": [
        "# copyright 2022 Christian Forssén\n",
        "# by Christian Forssén\n",
        "# For detailed reasoning, see Data Analysis: A Bayesian Tutorial (2E) by D. S. Sivia with J. Skilling (ISBN 978-0-19-856832-2).\n",
        "\n",
        "import scipy.stats as stats\n",
        "import numpy as np\n",
        "import matplotlib.pyplot as plt\n",
        "rng = np.random.default_rng(seed=999)         # for reproducibility\n",
        "pHtrue=0.6                       # biased coin\n",
        "flips=rng.random(2**12) # simulates 4096 coin flips\n",
        "heads=flips<pHtrue              # boolean array, heads[i]=True if flip i is heads"
      ]
    },
    {
      "cell_type": "code",
      "source": [],
      "metadata": {
        "id": "fhnwyLV0Eqlh"
      },
      "execution_count": 13,
      "outputs": []
    },
    {
      "cell_type": "code",
      "source": [
        "# copyright 2022 Christian Forssén\n",
        "# by Christian Forssén\n",
        "# For detailed reasoning, see Data Analysis: A Bayesian Tutorial (2E) by D. S. Sivia with J. Skilling (ISBN 978-0-19-856832-2).\n",
        "\n",
        "def dist_stuff(dist):\n",
        "    \"\"\"\n",
        "    Finds the median, mean, and 68%/95% credible intervals for the given\n",
        "    1-d distribution (which is an object from scipy.stats).\n",
        "    \"\"\"\n",
        "    # For x = median, mean: return x and the value of the pdf at x as a list\n",
        "    median = [dist.median(), dist.pdf(dist.median())]\n",
        "    mean = [dist.mean(), dist.pdf(dist.mean())]\n",
        "    # The left and right limits of the credibility interval are returned\n",
        "    cred68 = dist.interval(0.68)\n",
        "    cred95 = dist.interval(0.95)\n",
        "    return median, mean, cred68, cred95"
      ],
      "metadata": {
        "id": "ujn2k21VEPfF"
      },
      "execution_count": 14,
      "outputs": []
    },
    {
      "cell_type": "code",
      "source": [
        "# copyright 2022 Christian Forssén\n",
        "# by Christian Forssén\n",
        "# For detailed reasoning, see Data Analysis: A Bayesian Tutorial (2E) by D. S. Sivia with J. Skilling (ISBN 978-0-19-856832-2).\n",
        "\n",
        "def dist_mode(dist, x):\n",
        "    \"\"\"\n",
        "    Return the mode (maximum) of the 1-d distribution for array x.\n",
        "    \"\"\"\n",
        "    x_max_index = dist.pdf(x).argmax()\n",
        "    # Return x of the maximum and the value of the pdf at that x\n",
        "    mode = [x[x_max_index], dist.pdf(x[x_max_index])]\n",
        "    return mode"
      ],
      "metadata": {
        "id": "8PH7ejr4ES69"
      },
      "execution_count": 15,
      "outputs": []
    },
    {
      "cell_type": "code",
      "source": [
        "# copyright 2022 Christian Forssén\n",
        "# by Christian Forssén\n",
        "# For detailed reasoning, see Data Analysis: A Bayesian Tutorial (2E) by D. S. Sivia with J. Skilling (ISBN 978-0-19-856832-2).\n",
        "\n",
        "def print_uniform_prior_measures(N,heads):\n",
        "    \"\"\"\n",
        "    Prints out the mean, and 68 and 95 CIs for a uniform prior. Note that this means alpha=beta=1.\n",
        "    \"\"\"\n",
        "    x = np.linspace(0, 1, 301)   # mesh for posterior plots (enough so smooth)\n",
        "    median, mean, cred68, cred95 = dist_stuff(stats.beta(1+heads,1+N-heads))\n",
        "    mode=dist_mode(stats.beta(1+heads,1+N-heads),x)\n",
        "    print(f'For a uniform prior, and {heads} heads out of {N} tosses:')\n",
        "    print(f'  mean={mean[0]:.3f}; Mode={mode[0]:.3f}')\n",
        "    print(f'  68% DoB interval=[{cred68[0]:.3f},{cred68[1]:.3f}]')\n",
        "    print(f'  95% DoB interval=[{cred95[0]:.3f},{cred95[1]:.3f}]')\n",
        "    return"
      ],
      "metadata": {
        "id": "jisVAks4EYiw"
      },
      "execution_count": 16,
      "outputs": []
    },
    {
      "cell_type": "code",
      "source": [
        "# copyright 2022 Christian Forssén\n",
        "# by Christian Forssén\n",
        "# For detailed reasoning, see Data Analysis: A Bayesian Tutorial (2E) by D. S. Sivia with J. Skilling (ISBN 978-0-19-856832-2).\n",
        "\n",
        "num_coin_tosses=10\n",
        "print_uniform_prior_measures(num_coin_tosses,np.sum(heads[:num_coin_tosses]))"
      ],
      "metadata": {
        "colab": {
          "base_uri": "https://localhost:8080/"
        },
        "id": "Vi_30D7oEdCa",
        "outputId": "9f655489-f789-4c5b-cfa9-5e2107cb3201"
      },
      "execution_count": 17,
      "outputs": [
        {
          "output_type": "stream",
          "name": "stdout",
          "text": [
            "For a uniform prior, and 4 heads out of 10 tosses:\n",
            "  mean=0.417; Mode=0.400\n",
            "  68% DoB interval=[0.276,0.558]\n",
            "  95% DoB interval=[0.167,0.692]\n"
          ]
        }
      ]
    },
    {
      "cell_type": "code",
      "source": [
        "# copyright 2022 Christian Forssén\n",
        "# by Christian Forssén\n",
        "# For detailed reasoning, see Data Analysis: A Bayesian Tutorial (2E) by D. S. Sivia with J. Skilling (ISBN 978-0-19-856832-2).\n",
        "\n",
        "print('The actual value of p_H is',pHtrue)"
      ],
      "metadata": {
        "colab": {
          "base_uri": "https://localhost:8080/"
        },
        "id": "7FyxQTCrEgas",
        "outputId": "647744bf-c8e4-47c8-acb3-4f152279b0df"
      },
      "execution_count": 18,
      "outputs": [
        {
          "output_type": "stream",
          "name": "stdout",
          "text": [
            "The actual value of p_H is 0.6\n"
          ]
        }
      ]
    },
    {
      "cell_type": "code",
      "source": [
        "# copyright 2022 Christian Forssén\n",
        "# by Christian Forssén\n",
        "# For detailed reasoning, see Data Analysis: A Bayesian Tutorial (2E) by D. S. Sivia with J. Skilling (ISBN 978-0-19-856832-2).\n",
        "\n",
        "def print_frequentist_estimators(N,heads):\n",
        "    \"\"\"\n",
        "    Finds the mean, and 68 and 95 CIs. Note that this means alpha_1=beta_1=1.\n",
        "    \"\"\"\n",
        "    mean=heads/N\n",
        "    sigma=np.sqrt(mean*(1-mean)/N)\n",
        "    print(f'For {heads} heads out of {N} tosses, the frequentist 68% confidence interval=',\\\n",
        "          f'({mean-sigma:.3f},{mean+sigma:.3f})')\n",
        "    return"
      ],
      "metadata": {
        "id": "QuevntinFC7f"
      },
      "execution_count": 19,
      "outputs": []
    },
    {
      "cell_type": "code",
      "source": [
        "# copyright 2022 Christian Forssén\n",
        "# by Christian Forssén\n",
        "# For detailed reasoning, see Data Analysis: A Bayesian Tutorial (2E) by D. S. Sivia with J. Skilling (ISBN 978-0-19-856832-2).\n",
        "\n",
        "print_frequentist_estimators(num_coin_tosses,np.sum(heads[:num_coin_tosses]))"
      ],
      "metadata": {
        "colab": {
          "base_uri": "https://localhost:8080/"
        },
        "id": "BNxpGd2rFGj0",
        "outputId": "01c2d87e-8fe5-46a3-aceb-fcafcf5da46d"
      },
      "execution_count": 20,
      "outputs": [
        {
          "output_type": "stream",
          "name": "stdout",
          "text": [
            "For 4 heads out of 10 tosses, the frequentist 68% confidence interval= (0.245,0.555)\n"
          ]
        }
      ]
    },
    {
      "cell_type": "code",
      "source": [],
      "metadata": {
        "id": "UjwjVu0xFKY8"
      },
      "execution_count": null,
      "outputs": []
    }
  ]
}