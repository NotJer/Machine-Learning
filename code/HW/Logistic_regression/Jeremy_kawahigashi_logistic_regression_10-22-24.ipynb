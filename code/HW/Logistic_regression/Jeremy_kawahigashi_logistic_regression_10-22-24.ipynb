{
 "cells": [
  {
   "cell_type": "markdown",
   "id": "467a46ce-a17f-45c2-8d3b-50ffe1bfd4a2",
   "metadata": {},
   "source": [
    "# Logistic-Regression Practice"
   ]
  },
  {
   "cell_type": "markdown",
   "id": "e5e646f1",
   "metadata": {},
   "source": [
    "    Jeremy Kawahigashi\n",
    "    11/8/24\n",
    "    Logistic Regression Homework\n",
    "    ECEGR 4750\n",
    "    "
   ]
  },
  {
   "cell_type": "markdown",
   "id": "ac1c4d86-4875-4332-8e0c-dafc314f10fe",
   "metadata": {},
   "source": [
    "We will use a version of the famous Titanic data set that requires very little cleaning."
   ]
  },
  {
   "cell_type": "code",
   "execution_count": 1,
   "id": "750d517f-fe6d-46b6-9809-77a15136c6c2",
   "metadata": {},
   "outputs": [],
   "source": [
    "import pandas as pd\n",
    "import statsmodels.api as sm\n",
    "from sklearn.model_selection import train_test_split"
   ]
  },
  {
   "cell_type": "markdown",
   "id": "1277147d-7faf-4dd1-990d-64cbbb15de00",
   "metadata": {},
   "source": [
    "Read in the data set."
   ]
  },
  {
   "cell_type": "code",
   "execution_count": 2,
   "id": "56ae51e4-1e56-47e2-b288-fc3f4a6b74be",
   "metadata": {},
   "outputs": [],
   "source": [
    "t_df = pd.read_csv('titanic_data.csv', index_col='PassengerId')\n",
    "t_df = t_df.dropna()"
   ]
  },
  {
   "cell_type": "markdown",
   "id": "3ea14e68-1180-407c-aac5-59958fce899c",
   "metadata": {},
   "source": [
    "Remove columns that don't make reasonable numeric predictors."
   ]
  },
  {
   "cell_type": "code",
   "execution_count": 3,
   "id": "2e8fed58-d03e-496f-9d7e-7d38fddc23ef",
   "metadata": {},
   "outputs": [],
   "source": [
    "t_df.drop(columns=['Name', 'Cabin', 'Ticket'], inplace=True)"
   ]
  },
  {
   "cell_type": "markdown",
   "id": "e25460f8-9af7-4dd7-b805-baf40bfe8fed",
   "metadata": {},
   "source": [
    "Convert the remaining columns to use numeric labels."
   ]
  },
  {
   "cell_type": "code",
   "execution_count": 4,
   "id": "02720341-835c-4737-b07a-2ab69c86fbf5",
   "metadata": {},
   "outputs": [
    {
     "name": "stderr",
     "output_type": "stream",
     "text": [
      "/var/folders/3b/s6fvjch545vdgjngslp7sv1m0000gn/T/ipykernel_43660/3375600970.py:1: FutureWarning: A value is trying to be set on a copy of a DataFrame or Series through chained assignment using an inplace method.\n",
      "The behavior will change in pandas 3.0. This inplace method will never work because the intermediate object on which we are setting values always behaves as a copy.\n",
      "\n",
      "For example, when doing 'df[col].method(value, inplace=True)', try using 'df.method({col: value}, inplace=True)' or df[col] = df[col].method(value) instead, to perform the operation inplace on the original object.\n",
      "\n",
      "\n",
      "  t_df['Sex'].replace(['male', 'female'], [1, 0], inplace=True)\n",
      "/var/folders/3b/s6fvjch545vdgjngslp7sv1m0000gn/T/ipykernel_43660/3375600970.py:1: FutureWarning: Downcasting behavior in `replace` is deprecated and will be removed in a future version. To retain the old behavior, explicitly call `result.infer_objects(copy=False)`. To opt-in to the future behavior, set `pd.set_option('future.no_silent_downcasting', True)`\n",
      "  t_df['Sex'].replace(['male', 'female'], [1, 0], inplace=True)\n",
      "/var/folders/3b/s6fvjch545vdgjngslp7sv1m0000gn/T/ipykernel_43660/3375600970.py:2: FutureWarning: A value is trying to be set on a copy of a DataFrame or Series through chained assignment using an inplace method.\n",
      "The behavior will change in pandas 3.0. This inplace method will never work because the intermediate object on which we are setting values always behaves as a copy.\n",
      "\n",
      "For example, when doing 'df[col].method(value, inplace=True)', try using 'df.method({col: value}, inplace=True)' or df[col] = df[col].method(value) instead, to perform the operation inplace on the original object.\n",
      "\n",
      "\n",
      "  t_df['Embarked'].replace(['S', 'C', 'Q'], [0, 1, 2], inplace=True)\n",
      "/var/folders/3b/s6fvjch545vdgjngslp7sv1m0000gn/T/ipykernel_43660/3375600970.py:2: FutureWarning: Downcasting behavior in `replace` is deprecated and will be removed in a future version. To retain the old behavior, explicitly call `result.infer_objects(copy=False)`. To opt-in to the future behavior, set `pd.set_option('future.no_silent_downcasting', True)`\n",
      "  t_df['Embarked'].replace(['S', 'C', 'Q'], [0, 1, 2], inplace=True)\n"
     ]
    }
   ],
   "source": [
    "t_df['Sex'].replace(['male', 'female'], [1, 0], inplace=True)\n",
    "t_df['Embarked'].replace(['S', 'C', 'Q'], [0, 1, 2], inplace=True)"
   ]
  },
  {
   "cell_type": "markdown",
   "id": "dca55713-f6bb-4414-b058-5f5d1d43cc69",
   "metadata": {},
   "source": [
    "Extract the dependent and independent variables."
   ]
  },
  {
   "cell_type": "code",
   "execution_count": 5,
   "id": "0438fe4c-3909-4947-b45b-186c78078d51",
   "metadata": {},
   "outputs": [],
   "source": [
    "X = t_df.drop(columns=['Survived'])\n",
    "y = t_df['Survived']"
   ]
  },
  {
   "cell_type": "markdown",
   "id": "8eefd827-02ef-4469-9278-6e7d518bb16f",
   "metadata": {},
   "source": [
    "Split training and test sets."
   ]
  },
  {
   "cell_type": "markdown",
   "id": "a5422b95-e3ed-4e02-a83c-da21d5b75e9d",
   "metadata": {},
   "source": [
    "Notice that we are  _practicing to learn_, not creating a product, so we have not paid attention to validation vs. test."
   ]
  },
  {
   "cell_type": "code",
   "execution_count": 6,
   "id": "cd15ccd5-9bcc-4c66-a1ef-489c22777346",
   "metadata": {},
   "outputs": [
    {
     "name": "stdout",
     "output_type": "stream",
     "text": [
      "             Pclass  Sex   Age  SibSp  Parch     Fare  Embarked\n",
      "PassengerId                                                    \n",
      "171               1    1  61.0      0      0  33.5000         0\n",
      "450               1    1  52.0      0      0  30.5000         0\n",
      "702               1    1  35.0      0      0  26.2875         0\n",
      "149               2    1  36.5      0      2  26.0000         0\n",
      "274               1    1  37.0      0      1  29.7000         1\n",
      "...             ...  ...   ...    ...    ...      ...       ...\n",
      "836               1    0  39.0      1      1  83.1583         1\n",
      "648               1    1  56.0      0      0  35.5000         1\n",
      "711               1    0  24.0      0      0  49.5042         1\n",
      "453               1    1  30.0      0      0  27.7500         1\n",
      "4                 1    0  35.0      1      0  53.1000         0\n",
      "\n",
      "[128 rows x 7 columns]\n",
      "X_train: 128\n",
      "X_test: 55\n",
      "y_train: 128\n",
      "y_test: 55\n",
      "Training set percentage: 69.95%\n",
      "Test set percentage: 30.05%\n",
      "Cardinality of 'Pclass': 3\n"
     ]
    }
   ],
   "source": [
    "X_train, X_test, y_train, y_test = train_test_split(X, y, test_size=0.30)\n",
    "\n",
    "print(X_train)\n",
    "\n",
    "print(f\"X_train: {X_train.shape[0]}\")\n",
    "print(f\"X_test: {X_test.shape[0]}\")\n",
    "print(f\"y_train: {y_train.shape[0]}\")\n",
    "print(f\"y_test: {y_test.shape[0]}\")\n",
    "\n",
    "\n",
    "total_samples = X.shape[0]\n",
    "print(f\"Training set percentage: {X_train.shape[0] / total_samples * 100:.2f}%\")\n",
    "print(f\"Test set percentage: {X_test.shape[0] / total_samples * 100:.2f}%\")\n",
    "\n",
    "\n",
    "cardinalityP = t_df['Pclass'].nunique()\n",
    "print(f\"Cardinality of 'Pclass': {cardinalityP}\")\n",
    "\n"
   ]
  },
  {
   "cell_type": "markdown",
   "id": "f426daf8-24c0-455c-8a75-61000d8a29e1",
   "metadata": {},
   "source": [
    "### Run everything up to this point and check the variable explorer for the following.\n",
    "#### Do you have distinct training and test sets for the independent and dependent variables? Put the answer in your Jupyter notebook. Include the sizes of the sets in cardinality and percentage.\n",
    "\n",
    "\n",
    "\n",
    "    X_train: 128\n",
    "    X_test: 55\n",
    "    y_train: 128\n",
    "    y_test: 55\n",
    "    Training set percentage: 69.95%\n",
    "    Test set percentage: 30.05%\n",
    "    Cardinality of 'Pclass': 3\n",
    "        "
   ]
  },
  {
   "cell_type": "markdown",
   "id": "1c4b8bd5-2eaf-481b-86c6-fce52890e83f",
   "metadata": {},
   "source": [
    "#### Look at the two training sets and at least one test set to verify they contain what you expect.\n",
    "Are there any issues? Put the answer in your Jupyter notebook. Include an explanation or discussion if necessary."
   ]
  },
  {
   "cell_type": "code",
   "execution_count": 7,
   "id": "ba9932fd-03a9-4f44-b941-948619ae0e9d",
   "metadata": {
    "scrolled": true
   },
   "outputs": [
    {
     "name": "stdout",
     "output_type": "stream",
     "text": [
      "                           Logit Regression Results                           \n",
      "==============================================================================\n",
      "Dep. Variable:               Survived   No. Observations:                  128\n",
      "Model:                          Logit   Df Residuals:                      120\n",
      "Method:                           MLE   Df Model:                            7\n",
      "Date:                Thu, 07 Nov 2024   Pseudo R-squ.:                  0.2985\n",
      "Time:                        20:52:32   Log-Likelihood:                -57.313\n",
      "converged:                       True   LL-Null:                       -81.703\n",
      "Covariance Type:            nonrobust   LLR p-value:                 2.506e-08\n",
      "==============================================================================\n",
      "                 coef    std err          z      P>|z|      [0.025      0.975]\n",
      "------------------------------------------------------------------------------\n",
      "const          4.9831      1.405      3.547      0.000       2.230       7.736\n",
      "Pclass        -0.9902      0.597     -1.660      0.097      -2.159       0.179\n",
      "Sex           -2.9254      0.613     -4.775      0.000      -4.126      -1.725\n",
      "Age           -0.0339      0.017     -2.044      0.041      -0.066      -0.001\n",
      "SibSp          0.0272      0.405      0.067      0.946      -0.766       0.820\n",
      "Parch         -0.5067      0.385     -1.318      0.188      -1.260       0.247\n",
      "Fare           0.0028      0.003      0.828      0.408      -0.004       0.009\n",
      "Embarked       0.0298      0.467      0.064      0.949      -0.886       0.945\n",
      "==============================================================================\n"
     ]
    }
   ],
   "source": [
    "logmodel = sm.Logit(y_train, sm.add_constant(X_train)).fit(disp=False)\n",
    "print(logmodel.summary())"
   ]
  },
  {
   "cell_type": "markdown",
   "id": "fce86115-d7d6-4cff-b519-5c6a545f31eb",
   "metadata": {},
   "source": [
    "### Are there any predictors that are not statistically significant in the conventional sense?\n",
    "A variable is conventionally statistically significant if its _p_ value is less than 0.05. (Do you know why?)\n",
    "\n",
    "\n",
    "\n",
    "    Pclass (p = 0.197)\n",
    "    SibSp (p = 0.556)\n",
    "    Parch (p = 0.168)\n",
    "    Fare (p = 0.316)\n",
    "    Embarked (p = 0.340)\n",
    "\n",
    "    A statistically significant variable means theres stong evidence the predictor is assoiated with the outcome \n",
    "\n",
    "    "
   ]
  },
  {
   "cell_type": "markdown",
   "id": "a2d7f628-320a-4645-910c-ac38384e5c77",
   "metadata": {},
   "source": [
    "### What variable is particularly strong in predicting survival?\n",
    "\n",
    "\n",
    "\n",
    "    The sex variable is 0 which means it is a high impact on the liklyhood of survival "
   ]
  },
  {
   "cell_type": "markdown",
   "id": "210fe52b-fca6-4bc8-8df6-3ec3e2e9f07a",
   "metadata": {},
   "source": [
    "### What does a negative coefficient imply and why?\n",
    "\n",
    "\n",
    "\n",
    "    The coefficient is a relationship with the predictor and the odds. Thus in our case as the negative value for sex -2.56, means that sex = 0 is more likly to survive than if your sex = 1. \n"
   ]
  },
  {
   "cell_type": "markdown",
   "id": "8b6b45e0-2b4b-43bb-82b1-6bb8fb8a5173",
   "metadata": {},
   "source": [
    "### Based on your discussion, first think about what other variable ought to be a decent predictor?\n",
    "\n",
    "\n",
    "    Age would also be a good predictor for this because of it's low p-value. In addition, the younger that you are the higher chance of survival you had"
   ]
  },
  {
   "cell_type": "markdown",
   "id": "4dbd8241-c8a6-44e6-9487-f8d585ea35d9",
   "metadata": {},
   "source": [
    "### Next, check the report output to see if that was the case.\n",
    "Enter what variable you thought might be a good predictor and whether that turned out to be the case."
   ]
  },
  {
   "cell_type": "markdown",
   "id": "777744d7-7575-45b0-9481-fb7905c0e0c4",
   "metadata": {},
   "source": [
    "## Next, we wil learn about the quality of our predictions on the test set."
   ]
  },
  {
   "cell_type": "code",
   "execution_count": 8,
   "id": "8dd4560c-516f-415c-b43f-328aba6c6504",
   "metadata": {},
   "outputs": [
    {
     "name": "stdout",
     "output_type": "stream",
     "text": [
      "0.7636363636363637\n",
      "[[13  4]\n",
      " [ 9 29]]\n"
     ]
    }
   ],
   "source": [
    "from sklearn.metrics import accuracy_score, confusion_matrix\n",
    "\n",
    "# Form our predictions, convert continuous [0, 1] predictions to binary\n",
    "predictions = logmodel.predict(sm.add_constant(X_test))\n",
    "bin_predictions = [1 if x >= 0.5 else 0 for x in predictions]\n",
    "\n",
    "# We can now assess the accuracy and print out the confusion matrix\n",
    "print(accuracy_score(y_test, bin_predictions))\n",
    "print(confusion_matrix(y_test, bin_predictions))"
   ]
  },
  {
   "cell_type": "markdown",
   "id": "59530614",
   "metadata": {},
   "source": [
    "    This means an accuracy of 74.5%\n",
    "    True Negatives: 9\n",
    "    False Positives: 10\n",
    "    False Negatives: 4\n",
    "    True Positives: 32\n",
    "\n",
    "    Although it does change everytime the model is ran"
   ]
  },
  {
   "cell_type": "markdown",
   "id": "51f8df56-0d09-490d-8084-5582dd37c16b",
   "metadata": {},
   "source": [
    "## Discussion"
   ]
  },
  {
   "cell_type": "markdown",
   "id": "03d3f46b-24ed-4666-a72e-5bf6e975b99e",
   "metadata": {},
   "source": [
    "### There is another way to evaluate our model... for a variety of thresholds."
   ]
  },
  {
   "cell_type": "code",
   "execution_count": 9,
   "id": "b0f3290d-8a04-42a7-ad90-2da217b1eb2d",
   "metadata": {},
   "outputs": [
    {
     "data": {
      "text/plain": [
       "Text(0, 0.5, 'True Positive Rate')"
      ]
     },
     "execution_count": 9,
     "metadata": {},
     "output_type": "execute_result"
    },
    {
     "data": {
      "image/png": "[encoded data removed]",
      "text/plain": [
       "<Figure size 640x480 with 1 Axes>"
      ]
     },
     "metadata": {},
     "output_type": "display_data"
    }
   ],
   "source": [
    "from sklearn.metrics import roc_curve, roc_auc_score\n",
    "import matplotlib.pyplot as plt\n",
    "\n",
    "fpr, tpr, thresholds = roc_curve(y_test, predictions)\n",
    "roc_auc = roc_auc_score(y_test, predictions)\n",
    "\n",
    "plt.plot(fpr, tpr, label='ROC Curve (area = %0.3f)' % roc_auc)\n",
    "plt.title('ROC Curve (area = %0.3f)' % roc_auc)\n",
    "plt.xlabel('False Positive Rate')\n",
    "plt.ylabel('True Positive Rate')"
   ]
  }
 ],
 "metadata": {
  "kernelspec": {
   "display_name": "ECEGR4750",
   "language": "python",
   "name": "python3"
  },
  "language_info": {
   "codemirror_mode": {
    "name": "ipython",
    "version": 3
   },
   "file_extension": ".py",
   "mimetype": "text/x-python",
   "name": "python",
   "nbconvert_exporter": "python",
   "pygments_lexer": "ipython3",
   "version": "3.12.5"
  }
 },
 "nbformat": 4,
 "nbformat_minor": 5
}
