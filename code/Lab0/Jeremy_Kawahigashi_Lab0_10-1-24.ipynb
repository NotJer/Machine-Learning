{
 "cells": [
  {
   "cell_type": "markdown",
   "metadata": {},
   "source": [
    "Jeremy Kawahigashi Lab 0\n"
   ]
  },
  {
   "cell_type": "markdown",
   "metadata": {},
   "source": [
    "Part 1\n",
    "\n",
    "For all years before 3,200 CE, leap years are determined with a complex process: \n",
    "If a year in the common era is divisible by 4 and not divisible 100 with the exception of being divisible by 400, then it’s a leap year. For example, 2024 is a leap year; 2300 is not a leap year; 2400 is a leap year. \n",
    "\n",
    "Verify your understanding: Was 2000 a leap year? Was 1900 a leap year?\n",
    "Write a Python script that asks the user to enter a year between 1 and 3199, inclusive, and tells the user whether that was or will be a leap year or not.\n",
    "\n",
    "You can achieve interactivity with a statement like year = input(“Enter a year.”)\n",
    "You can define a function using def my_function(): followed by one more indented\n",
    "lines that define what the function does"
   ]
  },
  {
   "cell_type": "code",
   "execution_count": 2,
   "metadata": {},
   "outputs": [
    {
     "name": "stdout",
     "output_type": "stream",
     "text": [
      "2400 is a leap year.\n"
     ]
    }
   ],
   "source": [
    "def is_leap_year(year):\n",
    "    if year % 4 == 0:\n",
    "        if year % 100 == 0:\n",
    "            if year % 400 == 0:\n",
    "                return True  \n",
    "            else:\n",
    "                return False  \n",
    "        else:\n",
    "            return True \n",
    "    else:\n",
    "        return False \n",
    "\n",
    "year = int(input(\"Enter a year between 1 and 3199: \"))\n",
    "\n",
    "if 1 <= year <= 3199:\n",
    "    if is_leap_year(year):\n",
    "        print(f\"{year} is a leap year.\")\n",
    "    else:\n",
    "        print(f\"{year} is not a leap year.\")\n",
    "else:\n",
    "    print(\"Year out of range. Please enter a year between 1 and 3199.\")\n"
   ]
  },
  {
   "cell_type": "markdown",
   "metadata": {},
   "source": [
    "Part 2\n",
    "\n",
    "Note: Please enter all answers at once seperated by a comma, they do not need to be in order\n",
    "\n",
    "\n",
    "\n",
    "Use a while loop to present the user with a multiple-correct multiple-choice question and\n",
    "evaluate their response.\n",
    "You can come up with your own question and set of answers or use the following.\n",
    "Which of the following countries can be considered Scandinavian?\n",
    "A. Latvia\n",
    "B. Denmark\n",
    "C. Finland\n",
    "D. The Netherlands\n",
    "E. Sweden\n",
    "If you use your own question and answers, make sure there are 5 answers and either two or\n",
    "three correct ones among them    Port the above two exercises to Google Colab. You can find Google Colab online.\n"
   ]
  },
  {
   "cell_type": "code",
   "execution_count": 15,
   "metadata": {},
   "outputs": [
    {
     "name": "stdout",
     "output_type": "stream",
     "text": [
      "Which of the following countries can be considered Scandinavian?\n",
      "A. Latvia\n",
      "B. Denmark\n",
      "C. Finland\n",
      "D. The Netherlands\n",
      "E. Sweden\n",
      "Incorrect. Try again.\n",
      "Incorrect. Try again.\n",
      "Incorrect. Try again.\n",
      "Out of attempts. The correct answers are Denmark, Finland, and Sweden.\n"
     ]
    }
   ],
   "source": [
    "def ask():\n",
    "    print(\"Which of the following countries can be considered Scandinavian?\")\n",
    "    print(\"A. Latvia\")\n",
    "    print(\"B. Denmark\")\n",
    "    print(\"C. Finland\")\n",
    "    print(\"D. The Netherlands\")\n",
    "    print(\"E. Sweden\")\n",
    "    \n",
    "    correct_answers = ['B', 'C', 'E']\n",
    "    attempts = 0\n",
    "    max = 3\n",
    "\n",
    "    while attempts < max:\n",
    "        response = input(\"Select the correct countries (comma-separated, e.g., A,B): \").upper()\n",
    "        selected_answers = [answer.strip() for answer in response.split(',')]\n",
    "\n",
    "        if set(selected_answers) == set(correct_answers):\n",
    "            print(\"Correct! Denmark, Finland, and Sweden are Scandinavian countries.\")\n",
    "            break\n",
    "        else:\n",
    "            print(\"Incorrect. Try again.\")\n",
    "            attempts += 1\n",
    "    \n",
    "    if attempts == max:\n",
    "        print(\"Out of attempts. The correct answers are Denmark, Finland, and Sweden.\")\n",
    "\n",
    "ask()\n"
   ]
  },
  {
   "cell_type": "markdown",
   "metadata": {},
   "source": [
    "Part 3\n"
   ]
  },
  {
   "cell_type": "code",
   "execution_count": 12,
   "metadata": {},
   "outputs": [
    {
     "name": "stdout",
     "output_type": "stream",
     "text": [
      "Max:96\n",
      "Min:5\n",
      "96\n",
      "5\n",
      "Mean:52.24\n",
      "Median:62.0\n",
      "Variance:791.3824000000001\n"
     ]
    },
    {
     "data": {
      "text/plain": [
       "<BarContainer object of 10 artists>"
      ]
     },
     "execution_count": 12,
     "metadata": {},
     "output_type": "execute_result"
    },
    {
     "data": {
      "image/png": "[encoded data removed]",
      "text/plain": [
       "<Figure size 640x480 with 1 Axes>"
      ]
     },
     "metadata": {},
     "output_type": "display_data"
    }
   ],
   "source": [
    "import numpy as np\n",
    "import matplotlib.pyplot as plt\n",
    "\n",
    "\n",
    "dataset1 = [85,62,78,64,25,12,74,96,63,45,78,20,5,30,45,78,45,96,65,45,74,12,78,23,8]\n",
    "\n",
    "\n",
    "max = np.max(dataset1)\n",
    "print(\"Max:{0:d}\".format(max))\n",
    "min = np.min(dataset1)\n",
    "print(\"Min:{0:d}\".format(min))\n",
    "\n",
    "\n",
    "print(max)\n",
    "print(min)\n",
    "\n",
    "mean = np.mean(dataset1)\n",
    "print(\"Mean:{}\".format(mean))\n",
    "median = np.median(dataset1)\n",
    "print(\"Median:{}\".format(median))\n",
    "variance = np.var(dataset1)\n",
    "print(\"Variance:{}\".format(variance))\n",
    "\n",
    "\n",
    "\n",
    "plt.figure()\n",
    "hist1, edges1 = np.histogram(dataset1)\n",
    "plt.bar(edges1[:-1], hist1, width = edges1[1:]-edges1[:-1])"
   ]
  },
  {
   "cell_type": "markdown",
   "metadata": {},
   "source": [
    "question 4: The formatting print(“Max:{0:d}”.format(max)) takes the max number and selects the first index = 0. In addition it adds \"Max:\" before the number. Finally it ensure that max a decimal integer"
   ]
  },
  {
   "cell_type": "markdown",
   "metadata": {},
   "source": [
    "Part 4 "
   ]
  },
  {
   "cell_type": "code",
   "execution_count": 1,
   "metadata": {},
   "outputs": [
    {
     "name": "stdout",
     "output_type": "stream",
     "text": [
      "Max:3.092761\n",
      "Min:-3.019603\n",
      "3.092760841296375\n",
      "-3.019603146058073\n"
     ]
    },
    {
     "data": {
      "text/plain": [
       "<BarContainer object of 100 artists>"
      ]
     },
     "execution_count": 1,
     "metadata": {},
     "output_type": "execute_result"
    },
    {
     "data": {
      "image/png": "[encoded data removed]",
      "text/plain": [
       "<Figure size 640x480 with 1 Axes>"
      ]
     },
     "metadata": {},
     "output_type": "display_data"
    }
   ],
   "source": [
    "import numpy as np\n",
    "import matplotlib.pyplot as plt\n",
    "\n",
    "\n",
    "dataset2 = np.random.randn(1000)\n",
    "\n",
    "max = np.max(dataset2)\n",
    "print(\"Max:{0:f}\".format(max))\n",
    "min = np.min(dataset2)\n",
    "print(\"Min:{0:f}\".format(min))\n",
    "\n",
    "print(max)\n",
    "print(min)\n",
    "\n",
    "mean = np.mean(dataset2)\n",
    "median = np.median(dataset2)\n",
    "variance = np.var(dataset2)\n",
    "\n",
    "\n",
    "plt.figure()\n",
    "hist1, edges1 = np.histogram(dataset2, bins=100)\n",
    "plt.bar(edges1[:-1], hist1, width = edges1[1:]-edges1[:-1])\n",
    "\n"
   ]
  },
  {
   "cell_type": "markdown",
   "metadata": {},
   "source": [
    "Question 10: There are 10 total bars before bin\n",
    "\n",
    "Question 11: adding np.histogram(dataset2, bins=100) returns a histogram with 100 bars as to 10"
   ]
  },
  {
   "cell_type": "markdown",
   "metadata": {},
   "source": [
    "Part 4\n"
   ]
  },
  {
   "cell_type": "code",
   "execution_count": 19,
   "metadata": {},
   "outputs": [
    {
     "data": {
      "text/html": [
       "<div>\n",
       "<style scoped>\n",
       "    .dataframe tbody tr th:only-of-type {\n",
       "        vertical-align: middle;\n",
       "    }\n",
       "\n",
       "    .dataframe tbody tr th {\n",
       "        vertical-align: top;\n",
       "    }\n",
       "\n",
       "    .dataframe thead th {\n",
       "        text-align: right;\n",
       "    }\n",
       "</style>\n",
       "<table border=\"1\" class=\"dataframe\">\n",
       "  <thead>\n",
       "    <tr style=\"text-align: right;\">\n",
       "      <th></th>\n",
       "      <th>Week of the month (first week, second, third, fourth or fifth week</th>\n",
       "      <th>Day of the week (Monday to Friday)</th>\n",
       "      <th>Non-urgent order</th>\n",
       "      <th>Urgent order</th>\n",
       "      <th>Order type A</th>\n",
       "      <th>Order type B</th>\n",
       "      <th>Order type C</th>\n",
       "      <th>Fiscal sector orders</th>\n",
       "      <th>Orders from the traffic controller sector</th>\n",
       "      <th>Banking orders (1)</th>\n",
       "      <th>Banking orders (2)</th>\n",
       "      <th>Banking orders (3)</th>\n",
       "      <th>Target (Total orders)</th>\n",
       "    </tr>\n",
       "  </thead>\n",
       "  <tbody>\n",
       "    <tr>\n",
       "      <th>count</th>\n",
       "      <td>60.000000</td>\n",
       "      <td>60.000000</td>\n",
       "      <td>60.000000</td>\n",
       "      <td>60.000000</td>\n",
       "      <td>60.000000</td>\n",
       "      <td>60.000000</td>\n",
       "      <td>60.000000</td>\n",
       "      <td>60.000000</td>\n",
       "      <td>60.000000</td>\n",
       "      <td>60.000000</td>\n",
       "      <td>60.000000</td>\n",
       "      <td>60.000000</td>\n",
       "      <td>60.000000</td>\n",
       "    </tr>\n",
       "    <tr>\n",
       "      <th>mean</th>\n",
       "      <td>3.016667</td>\n",
       "      <td>4.033333</td>\n",
       "      <td>172.554933</td>\n",
       "      <td>118.920850</td>\n",
       "      <td>52.112217</td>\n",
       "      <td>109.229850</td>\n",
       "      <td>139.531250</td>\n",
       "      <td>77.396133</td>\n",
       "      <td>44504.350000</td>\n",
       "      <td>46640.833333</td>\n",
       "      <td>79401.483333</td>\n",
       "      <td>23114.633333</td>\n",
       "      <td>300.873317</td>\n",
       "    </tr>\n",
       "    <tr>\n",
       "      <th>std</th>\n",
       "      <td>1.282102</td>\n",
       "      <td>1.401775</td>\n",
       "      <td>69.505788</td>\n",
       "      <td>27.170929</td>\n",
       "      <td>18.829911</td>\n",
       "      <td>50.741388</td>\n",
       "      <td>41.442932</td>\n",
       "      <td>186.502470</td>\n",
       "      <td>12197.905134</td>\n",
       "      <td>45220.736293</td>\n",
       "      <td>40504.420041</td>\n",
       "      <td>13148.039829</td>\n",
       "      <td>89.602041</td>\n",
       "    </tr>\n",
       "    <tr>\n",
       "      <th>min</th>\n",
       "      <td>1.000000</td>\n",
       "      <td>2.000000</td>\n",
       "      <td>43.651000</td>\n",
       "      <td>77.371000</td>\n",
       "      <td>21.826000</td>\n",
       "      <td>25.125000</td>\n",
       "      <td>74.372000</td>\n",
       "      <td>0.000000</td>\n",
       "      <td>11992.000000</td>\n",
       "      <td>3452.000000</td>\n",
       "      <td>16411.000000</td>\n",
       "      <td>7679.000000</td>\n",
       "      <td>129.412000</td>\n",
       "    </tr>\n",
       "    <tr>\n",
       "      <th>25%</th>\n",
       "      <td>2.000000</td>\n",
       "      <td>3.000000</td>\n",
       "      <td>125.348000</td>\n",
       "      <td>100.888000</td>\n",
       "      <td>39.456250</td>\n",
       "      <td>74.916250</td>\n",
       "      <td>113.632250</td>\n",
       "      <td>1.243250</td>\n",
       "      <td>34994.250000</td>\n",
       "      <td>20130.000000</td>\n",
       "      <td>50680.500000</td>\n",
       "      <td>12609.750000</td>\n",
       "      <td>238.195500</td>\n",
       "    </tr>\n",
       "    <tr>\n",
       "      <th>50%</th>\n",
       "      <td>3.000000</td>\n",
       "      <td>4.000000</td>\n",
       "      <td>151.062500</td>\n",
       "      <td>113.114500</td>\n",
       "      <td>47.166500</td>\n",
       "      <td>99.482000</td>\n",
       "      <td>127.990000</td>\n",
       "      <td>7.831500</td>\n",
       "      <td>44312.000000</td>\n",
       "      <td>32527.500000</td>\n",
       "      <td>67181.000000</td>\n",
       "      <td>18011.500000</td>\n",
       "      <td>288.034500</td>\n",
       "    </tr>\n",
       "    <tr>\n",
       "      <th>75%</th>\n",
       "      <td>4.000000</td>\n",
       "      <td>5.000000</td>\n",
       "      <td>194.606500</td>\n",
       "      <td>132.108250</td>\n",
       "      <td>58.463750</td>\n",
       "      <td>132.171000</td>\n",
       "      <td>160.107500</td>\n",
       "      <td>20.360750</td>\n",
       "      <td>52111.750000</td>\n",
       "      <td>45118.750000</td>\n",
       "      <td>94787.750000</td>\n",
       "      <td>31047.750000</td>\n",
       "      <td>334.237250</td>\n",
       "    </tr>\n",
       "    <tr>\n",
       "      <th>max</th>\n",
       "      <td>5.000000</td>\n",
       "      <td>6.000000</td>\n",
       "      <td>435.304000</td>\n",
       "      <td>223.270000</td>\n",
       "      <td>118.178000</td>\n",
       "      <td>267.342000</td>\n",
       "      <td>302.448000</td>\n",
       "      <td>865.000000</td>\n",
       "      <td>71772.000000</td>\n",
       "      <td>210508.000000</td>\n",
       "      <td>188411.000000</td>\n",
       "      <td>73839.000000</td>\n",
       "      <td>616.453000</td>\n",
       "    </tr>\n",
       "  </tbody>\n",
       "</table>\n",
       "</div>"
      ],
      "text/plain": [
       "       Week of the month (first week, second, third, fourth or fifth week  \\\n",
       "count                                          60.000000                    \n",
       "mean                                            3.016667                    \n",
       "std                                             1.282102                    \n",
       "min                                             1.000000                    \n",
       "25%                                             2.000000                    \n",
       "50%                                             3.000000                    \n",
       "75%                                             4.000000                    \n",
       "max                                             5.000000                    \n",
       "\n",
       "       Day of the week (Monday to Friday)  Non-urgent order  Urgent order  \\\n",
       "count                           60.000000         60.000000     60.000000   \n",
       "mean                             4.033333        172.554933    118.920850   \n",
       "std                              1.401775         69.505788     27.170929   \n",
       "min                              2.000000         43.651000     77.371000   \n",
       "25%                              3.000000        125.348000    100.888000   \n",
       "50%                              4.000000        151.062500    113.114500   \n",
       "75%                              5.000000        194.606500    132.108250   \n",
       "max                              6.000000        435.304000    223.270000   \n",
       "\n",
       "       Order type A  Order type B  Order type C  Fiscal sector orders  \\\n",
       "count     60.000000     60.000000     60.000000             60.000000   \n",
       "mean      52.112217    109.229850    139.531250             77.396133   \n",
       "std       18.829911     50.741388     41.442932            186.502470   \n",
       "min       21.826000     25.125000     74.372000              0.000000   \n",
       "25%       39.456250     74.916250    113.632250              1.243250   \n",
       "50%       47.166500     99.482000    127.990000              7.831500   \n",
       "75%       58.463750    132.171000    160.107500             20.360750   \n",
       "max      118.178000    267.342000    302.448000            865.000000   \n",
       "\n",
       "       Orders from the traffic controller sector  Banking orders (1)  \\\n",
       "count                                  60.000000           60.000000   \n",
       "mean                                44504.350000        46640.833333   \n",
       "std                                 12197.905134        45220.736293   \n",
       "min                                 11992.000000         3452.000000   \n",
       "25%                                 34994.250000        20130.000000   \n",
       "50%                                 44312.000000        32527.500000   \n",
       "75%                                 52111.750000        45118.750000   \n",
       "max                                 71772.000000       210508.000000   \n",
       "\n",
       "       Banking orders (2)  Banking orders (3)  Target (Total orders)  \n",
       "count           60.000000           60.000000              60.000000  \n",
       "mean         79401.483333        23114.633333             300.873317  \n",
       "std          40504.420041        13148.039829              89.602041  \n",
       "min          16411.000000         7679.000000             129.412000  \n",
       "25%          50680.500000        12609.750000             238.195500  \n",
       "50%          67181.000000        18011.500000             288.034500  \n",
       "75%          94787.750000        31047.750000             334.237250  \n",
       "max         188411.000000        73839.000000             616.453000  "
      ]
     },
     "execution_count": 19,
     "metadata": {},
     "output_type": "execute_result"
    }
   ],
   "source": [
    "\n",
    "import pandas as pd\n",
    "\n",
    "brazil = pd.read_csv(\"https://archive.ics.uci.edu/static/public/409/daily+demand+forecasting+orders.zip\", sep=\";\")\n",
    "formatted_brazil = pd.DataFrame(brazil.describe())\n",
    "formatted_brazil\n"
   ]
  },
  {
   "cell_type": "markdown",
   "metadata": {},
   "source": [
    "If the csv is set to a dataframe and .describe() is called then this returns multiple stats."
   ]
  },
  {
   "cell_type": "markdown",
   "metadata": {},
   "source": [
    "Part4 Pt2"
   ]
  },
  {
   "cell_type": "code",
   "execution_count": 2,
   "metadata": {},
   "outputs": [
    {
     "data": {
      "image/png": "[encoded data removed]",
      "text/plain": [
       "<Figure size 640x480 with 1 Axes>"
      ]
     },
     "metadata": {},
     "output_type": "display_data"
    },
    {
     "name": "stdout",
     "output_type": "stream",
     "text": [
      "Correlation coefficient: 0.9835516111796693\n"
     ]
    }
   ],
   "source": [
    "import matplotlib.pyplot as plt\n",
    "import pandas as pd\n",
    "\n",
    "\n",
    "other = pd.read_csv(\"http://vincentarelbundock.github.io/Rdatasets/csv/datasets/longley.csv\")\n",
    "df = pd.DataFrame(other)\n",
    "plt.scatter(df['GNP'], df['Employed'])\n",
    "plt.xlabel('GNP')\n",
    "plt.ylabel('Employed')\n",
    "plt.title('Scatterplot of GNP vs Employed')\n",
    "plt.show()\n",
    "\n",
    "correlation = np.corrcoef(df['GNP'], df['Employed'])\n",
    "correlation_coefficient = correlation[0, 1]  \n",
    "print(\"Correlation coefficient:\", correlation_coefficient)"
   ]
  },
  {
   "cell_type": "markdown",
   "metadata": {},
   "source": [
    "Since the Correlation coefficient is 0.9835516111796693, nearly one. This means there is a strong relationship between the GNP and the number of people employed"
   ]
  }
 ],
 "metadata": {
  "kernelspec": {
   "display_name": "Python 3",
   "language": "python",
   "name": "python3"
  },
  "language_info": {
   "codemirror_mode": {
    "name": "ipython",
    "version": 3
   },
   "file_extension": ".py",
   "mimetype": "text/x-python",
   "name": "python",
   "nbconvert_exporter": "python",
   "pygments_lexer": "ipython3",
   "version": "3.12.5"
  }
 },
 "nbformat": 4,
 "nbformat_minor": 2
}
