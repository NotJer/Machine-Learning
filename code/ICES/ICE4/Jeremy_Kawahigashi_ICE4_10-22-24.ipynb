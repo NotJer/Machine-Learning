{
 "cells": [
  {
   "cell_type": "markdown",
   "metadata": {},
   "source": [
    "Jeremy Kawahigashi \n",
    "10/22/24\n",
    "ICE4\n"
   ]
  },
  {
   "cell_type": "code",
   "execution_count": 5,
   "metadata": {},
   "outputs": [
    {
     "name": "stdout",
     "output_type": "stream",
     "text": [
      "result\n",
      "[1.8 3.1]\n"
     ]
    }
   ],
   "source": [
    "import numpy as np\n",
    "\n",
    "x = np.array([1, 3, 5])\n",
    "t = np.array([4.8, 11.3, 17.2])\n",
    "\n",
    "x_mean = np.mean(x)\n",
    "t_mean = np.mean(t)\n",
    "\n",
    "xt = x * t\n",
    "x_squared = x ** 2\n",
    "\n",
    "xt_mean = np.mean(xt)\n",
    "x_squared_mean = np.mean(x_squared)\n",
    "\n",
    "w1_star = (xt_mean - x_mean * t_mean) / (x_squared_mean - x_mean ** 2)\n",
    "w0_star = t_mean - w1_star * x_mean\n",
    "\n",
    "X = np.vstack((np.ones(len(x)), x)).T\n",
    "w_star = np.linalg.inv(X.T @ X) @ X.T @ t\n",
    "\n",
    "\n",
    "\n",
    "print(\"result\")\n",
    "print(w_star)\n"
   ]
  },
  {
   "cell_type": "code",
   "execution_count": 7,
   "metadata": {},
   "outputs": [
    {
     "name": "stdout",
     "output_type": "stream",
     "text": [
      "Men\n",
      "w0 intercept? = 36.41645590250545\n",
      "w1 slope? = -0.013330885710962777\n",
      "\n",
      "Women\n",
      "w0 intercept? = 40.92415460066191\n",
      "w1 slope? = -0.015071812237273021\n"
     ]
    }
   ],
   "source": [
    "import numpy as np\n",
    "import pandas as pd\n",
    "\n",
    "men = pd.read_csv('olympics_men.csv')\n",
    "women = pd.read_csv('olympics_women.csv')\n",
    "\n",
    "years_men = men['year'].values.astype(float)\n",
    "men_times = men['1st'].values.astype(float)\n",
    "years_women = women['year'].values.astype(float)\n",
    "women_times = women['1st'].values.astype(float)\n",
    "\n",
    "X_men = np.vstack((np.ones(len(years_men)), years_men)).T\n",
    "t_men = men_times\n",
    "X_women = np.vstack((np.ones(len(years_women)), years_women)).T\n",
    "t_women = women_times\n",
    "\n",
    "w_men = np.linalg.inv(X_men.T @ X_men) @ X_men.T @ t_men\n",
    "w_women = np.linalg.inv(X_women.T @ X_women) @ X_women.T @ t_women\n",
    "\n",
    "print(\"Men\")\n",
    "print(f\"w0 intercept? = {w_men[0]}\")\n",
    "print(f\"w1 slope? = {w_men[1]}\")\n",
    "\n",
    "print(\"\\nWomen\")\n",
    "print(f\"w0 intercept? = {w_women[0]}\")\n",
    "print(f\"w1 slope? = {w_women[1]}\")\n"
   ]
  },
  {
   "cell_type": "markdown",
   "metadata": {},
   "source": [
    "Looking at the R-squared, it appears that regularization was not needed. Because a 0.998 indicating a good fit. Looking at the regression equations "
   ]
  }
 ],
 "metadata": {
  "kernelspec": {
   "display_name": "ECEGR4750",
   "language": "python",
   "name": "python3"
  },
  "language_info": {
   "codemirror_mode": {
    "name": "ipython",
    "version": 3
   },
   "file_extension": ".py",
   "mimetype": "text/x-python",
   "name": "python",
   "nbconvert_exporter": "python",
   "pygments_lexer": "ipython3",
   "version": "3.12.5"
  }
 },
 "nbformat": 4,
 "nbformat_minor": 2
}
